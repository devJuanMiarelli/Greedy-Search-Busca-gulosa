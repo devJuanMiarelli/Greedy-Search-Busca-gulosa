{
  "nbformat": 4,
  "nbformat_minor": 0,
  "metadata": {
    "colab": {
      "provenance": [],
      "include_colab_link": true
    },
    "kernelspec": {
      "name": "python3",
      "display_name": "Python 3"
    },
    "language_info": {
      "name": "python"
    }
  },
  "cells": [
    {
      "cell_type": "markdown",
      "metadata": {
        "id": "view-in-github",
        "colab_type": "text"
      },
      "source": [
        "<a href=\"https://colab.research.google.com/github/devJuanMiarelli/Greedy-Search-Busca-gulosa/blob/main/Greedy_Search.ipynb\" target=\"_parent\"><img src=\"https://colab.research.google.com/assets/colab-badge.svg\" alt=\"Open In Colab\"/></a>"
      ]
    },
    {
      "cell_type": "markdown",
      "source": [
        "#Algoritmo de Busca Gulosa"
      ],
      "metadata": {
        "id": "6jeXasc2_WB6"
      }
    },
    {
      "cell_type": "markdown",
      "source": [
        "Importação de Biblioteca - >  A biblioteca heapq em Python fornece funcionalidades para manipulação de filas de prioridade, que são estruturas de dados usadas para manter uma coleção de elementos com base em suas prioridades. Ela é implementada usando uma estrutura de dados chamada heap, que é uma árvore binária especial em que cada nó é menor (ou maior, dependendo do tipo de heap) do que seus filhos."
      ],
      "metadata": {
        "id": "mGVOEjfZ_pYa"
      }
    },
    {
      "cell_type": "code",
      "execution_count": 1,
      "metadata": {
        "id": "NqLfOO1m_VVP"
      },
      "outputs": [],
      "source": [
        "import heapq"
      ]
    },
    {
      "cell_type": "markdown",
      "source": [
        "Função principal"
      ],
      "metadata": {
        "id": "DEJx6wKP_3U6"
      }
    },
    {
      "cell_type": "code",
      "source": [
        "def greedy_search(graph, start, goal):\n",
        "    visited = set()\n",
        "    priority_queue = [(0, start)]  # Inicializa a fila de prioridade com o nó inicial e custo zero\n",
        "    while priority_queue:\n",
        "        cost, current_node = heapq.heappop(priority_queue)  # Remove o nó com o menor custo da fila\n",
        "        if current_node == goal:\n",
        "            return cost  # Retorna o custo acumulado se o objetivo for alcançado\n",
        "        if current_node not in visited:\n",
        "            visited.add(current_node)\n",
        "            for neighbor, neighbor_cost in graph[current_node].items():\n",
        "                if neighbor not in visited:\n",
        "                    heapq.heappush(priority_queue, (cost + neighbor_cost, neighbor))  # Adiciona vizinhos à fila de prioridade\n",
        "    return float('inf')  # Retorna infinito se o objetivo não for alcançado"
      ],
      "metadata": {
        "id": "KSuAicSe_83-"
      },
      "execution_count": 2,
      "outputs": []
    },
    {
      "cell_type": "markdown",
      "source": [
        "Exemplo de grafo ponderado"
      ],
      "metadata": {
        "id": "VwTyRgQr_-Fr"
      }
    },
    {
      "cell_type": "code",
      "source": [
        "graph = {\n",
        "    'A': {'B': 10, 'C': 20, 'D': 15},\n",
        "    'B': {'A': 10, 'C': 25, 'E': 30},\n",
        "    'C': {'A': 20, 'B': 25, 'D': 35, 'E': 40},\n",
        "    'D': {'A': 15, 'C': 35, 'E': 45},\n",
        "    'E': {'B': 30, 'C': 40, 'D': 45}\n",
        "} # A e D -> pontos de partida, por exemplo\n",
        "  # B, C e E -> Clube aquático, Show da Turma da Mônica e Apresentação de um coral, respectivamente."
      ],
      "metadata": {
        "id": "oga_aYJtAAJU"
      },
      "execution_count": 3,
      "outputs": []
    },
    {
      "cell_type": "markdown",
      "source": [
        "Maps"
      ],
      "metadata": {
        "id": "5VgZpbJDWd4H"
      }
    },
    {
      "cell_type": "code",
      "source": [
        "def node_map(node):\n",
        "  if(node == 'A'):\n",
        "    return 'Minha casa'\n",
        "  if(node == 'B'):\n",
        "    return 'Clube aquático'\n",
        "  if(node == 'C'):\n",
        "    return 'Show da Turma da Mônica'\n",
        "  if(node == 'D'):\n",
        "    return 'Casa de um amigo'\n",
        "  if(node == 'E'):\n",
        "    return 'Apresentação de um coral'"
      ],
      "metadata": {
        "id": "d5QBXDqqWcsZ"
      },
      "execution_count": 10,
      "outputs": []
    },
    {
      "cell_type": "markdown",
      "source": [
        "Testar:"
      ],
      "metadata": {
        "id": "c-Rj_HHVAD3f"
      }
    },
    {
      "cell_type": "code",
      "source": [
        "start_node = 'A'\n",
        "goal_node = 'C'\n",
        "\n",
        "shortest_path_cost = greedy_search(graph, start_node, goal_node)\n",
        "\n",
        "partida = node_map(start_node)\n",
        "chegada = node_map(goal_node)\n",
        "\n",
        "print(\"O custo do caminho mais curto de\", partida, \"para\", chegada, \"é:\", shortest_path_cost, \"KMs\")"
      ],
      "metadata": {
        "id": "fvehi8SlAGj4",
        "colab": {
          "base_uri": "https://localhost:8080/"
        },
        "outputId": "b86c2681-7912-4f40-cb07-92742246ee09"
      },
      "execution_count": 14,
      "outputs": [
        {
          "output_type": "stream",
          "name": "stdout",
          "text": [
            "O custo do caminho mais curto de Minha casa para Show da Turma da Mônica é: 20 KMs\n"
          ]
        }
      ]
    }
  ]
}